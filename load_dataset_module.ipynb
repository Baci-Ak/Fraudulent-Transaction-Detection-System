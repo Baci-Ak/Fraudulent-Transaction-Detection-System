{
 "cells": [
  {
   "cell_type": "code",
   "execution_count": null,
   "id": "66e83012",
   "metadata": {},
   "outputs": [],
   "source": []
  },
  {
   "cell_type": "code",
   "execution_count": null,
   "id": "b51f9595",
   "metadata": {},
   "outputs": [],
   "source": []
  },
  {
   "cell_type": "code",
   "execution_count": 59,
   "id": "d67e8937",
   "metadata": {},
   "outputs": [],
   "source": [
    "#Load Dataset Module\n",
    "import string\n",
    "def transactions1():  \n",
    "    try:\n",
    "        transaction_data = {}\n",
    "        f = open('Transaction.txt', encoding =\"ISO-8859-1\")\n",
    "        for line in f:\n",
    "            #line = line.replace('\"', '')\n",
    "            user_id, transaction_id, description, amount, x_coord, y_coord, is_fraudulent = line.strip().split(':')\n",
    "            \n",
    "            if user_id not in transaction_data:\n",
    "                transaction_data[user_id] = {}\n",
    "            \n",
    "            transaction_data[user_id][transaction_id] = {\n",
    "                    'description': description,\n",
    "                    'amount': float(amount),\n",
    "                    'x_coord': float(x_coord),\n",
    "                    'y_coord': float(y_coord),\n",
    "                    'is_fraudulent': is_fraudulent}\n",
    "\n",
    "        return transaction_data\n",
    "    \n",
    "    #handling exceptions:\n",
    "    except FileNotFoundError:\n",
    "        print('the file you are trying to read is not in this working directory OR cannot be found')\n",
    "    except OSError as err:\n",
    "        print(\"OS error: {0}\".format(err))\n",
    "    except NameError:\n",
    "        print('there is a name in the class method that is not defined, please check to fix this')\n",
    "    except:\n",
    "        print(\"Some other exception happened.\")\n"
   ]
  },
  {
   "cell_type": "code",
   "execution_count": null,
   "id": "bc2cc464",
   "metadata": {},
   "outputs": [],
   "source": []
  },
  {
   "cell_type": "code",
   "execution_count": 64,
   "id": "97d80fe9",
   "metadata": {},
   "outputs": [],
   "source": []
  },
  {
   "cell_type": "code",
   "execution_count": 65,
   "id": "d6f0bfd3",
   "metadata": {},
   "outputs": [],
   "source": [
    "\n",
    "def transactions(): \n",
    "    try:\n",
    "        transaction_data = {}\n",
    "        f = open('Transaction.txt', encoding =\"ISO-8859-1\")\n",
    "        #next(f)\n",
    "        for line in f:\n",
    "            #line = line.replace('\"', '')\n",
    "            userId, transaction_id, description, amount, x_coord, y_coord, is_fraudulent = line.strip().split(':')\n",
    "            transaction_data.setdefault(userId, {})\n",
    "            transaction_data[userId][transaction_id] = {'description':description, \n",
    "                                                        'Amount': float(amount), \n",
    "                                                        'x_coord': float(x_coord), \n",
    "                                                        'y_coord': float(y_coord), \n",
    "                                                        'is_fraudulent':is_fraudulent}\n",
    "        return transaction_data\n",
    "    \n",
    "           #handling exceptions:\n",
    "    except FileNotFoundError:\n",
    "        print('the file you are trying to read is not in this working directory OR cannot be found')\n",
    "    except OSError as err:\n",
    "        print(\"OS error: {0}\".format(err))\n",
    "    except NameError:\n",
    "        print('there is a name in the class method that is not defined, please check to fix this')\n",
    "    except:\n",
    "        print(\"Some other exception happened.\")"
   ]
  },
  {
   "cell_type": "code",
   "execution_count": 66,
   "id": "36a5d9a9",
   "metadata": {},
   "outputs": [],
   "source": [
    "#p = transactions()\n",
    "#p"
   ]
  },
  {
   "cell_type": "code",
   "execution_count": null,
   "id": "39265346",
   "metadata": {},
   "outputs": [],
   "source": []
  }
 ],
 "metadata": {
  "kernelspec": {
   "display_name": "Python 3 (ipykernel)",
   "language": "python",
   "name": "python3"
  },
  "language_info": {
   "codemirror_mode": {
    "name": "ipython",
    "version": 3
   },
   "file_extension": ".py",
   "mimetype": "text/x-python",
   "name": "python",
   "nbconvert_exporter": "python",
   "pygments_lexer": "ipython3",
   "version": "3.11.3"
  }
 },
 "nbformat": 4,
 "nbformat_minor": 5
}
